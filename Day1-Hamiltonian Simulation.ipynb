{
 "cells": [
  {
   "cell_type": "code",
   "execution_count": null,
   "metadata": {},
   "outputs": [],
   "source": [
    "Day 1:Hamiltonian Simulation"
   ]
  },
  {
   "cell_type": "code",
   "execution_count": 3,
   "metadata": {},
   "outputs": [
    {
     "data": {
      "text/plain": [
       "32-element Array{Complex{Float64},1}:\n",
       "                   0.0 + 0.0im                 \n",
       "   0.06252988612363743 + 0.16909031723720036im \n",
       "   0.19147045457494663 - 0.270270794132785im   \n",
       "                   0.0 + 0.0im                 \n",
       "  -0.06549932768861665 + 0.10363463194859224im \n",
       "                   0.0 + 0.0im                 \n",
       "                   0.0 + 0.0im                 \n",
       "    0.1212756039151306 - 0.2901128133710888im  \n",
       "   0.05415089807523892 + 0.2657342357063905im  \n",
       "                   0.0 + 0.0im                 \n",
       "                   0.0 + 0.0im                 \n",
       "    0.5231254483059741 + 0.013361696061178888im\n",
       "                   0.0 + 0.0im                 \n",
       "                       ⋮                       \n",
       "                   0.0 + 0.0im                 \n",
       "  -0.07002852629957342 - 0.014617250411580844im\n",
       "  -0.10191139603221358 + 0.2443691739155347im  \n",
       "                   0.0 + 0.0im                 \n",
       "                   0.0 + 0.0im                 \n",
       " -0.029212477163541584 - 0.10710170623864713im \n",
       "  -0.20557470993054558 + 0.18146680235599474im \n",
       "                   0.0 + 0.0im                 \n",
       "   0.14945973482031558 + 0.04834721420475896im \n",
       "                   0.0 + 0.0im                 \n",
       "                   0.0 + 0.0im                 \n",
       "   0.13088389322957622 + 0.06642883354722767im "
      ]
     },
     "execution_count": 3,
     "metadata": {},
     "output_type": "execute_result"
    }
   ],
   "source": [
    "n_qubits = 5\n",
    "σ₁ = [0 1;1 0]\n",
    "σ₂ = [0 -im; im 0]\n",
    "σ₃ = [1 0;0 -1]\n",
    "ħ = 1.0\n",
    "J = 1.0\n",
    "I₂ = [1.0 0;0 1.0]\n",
    "\n",
    "function σ(i, gate)\n",
    "\tmatrices = []\n",
    "\tfor x in 1:5\n",
    "\t\tg = I₂\n",
    "\t\tif x == i\n",
    "\t\t\tg = gate\n",
    "\t\tend\n",
    "\t\tappend!(matrices, [g])\n",
    "\tend\n",
    "\n",
    "\tret = matrices[1]\n",
    "\tfor x in 2:length(matrices)\n",
    "\t\tret = kron(ret, matrices[x])\n",
    "\tend\n",
    "\treturn ret\n",
    "end\n",
    "\n",
    "function ϕ(basis)\n",
    "\tt = []\n",
    "\tfor i in basis\n",
    "\t\ti==0 ? append!(t, [[1;0]]) : append!(t, [[0;1]])\n",
    "\tend\n",
    "\n",
    "\tret = t[1]\n",
    "\tfor x in 2:length(t)\n",
    "\t\tret = kron(ret, t[x])\n",
    "\tend\n",
    "\treturn ret\n",
    "end\n",
    "\n",
    "H̄ = ħ*(σ(1, σ₃) + σ(2, σ₃) + σ(3, σ₃) + σ(4, σ₃) + σ(5, σ₃))\n",
    "t = σ(1, σ₁) * σ(2, σ₁) + σ(1, σ₁) * σ(2, σ₂)\n",
    "for x in 2:4\n",
    "\tglobal t += σ(x, σ₁) * σ(x+1, σ₁) + σ(x, σ₁) * σ(x+1, σ₂)\n",
    "end\n",
    "H̄ += t * J\n",
    "U = exp(-im*H̄)\n",
    "\n",
    "Φ = ϕ([1 0 1 0 1])\n",
    "Φₜ = U*Φ"
   ]
  }
 ],
 "metadata": {
  "kernelspec": {
   "display_name": "Julia 1.3.0",
   "language": "julia",
   "name": "julia-1.3"
  },
  "language_info": {
   "file_extension": ".jl",
   "mimetype": "application/julia",
   "name": "julia",
   "version": "1.3.0"
  }
 },
 "nbformat": 4,
 "nbformat_minor": 2
}
