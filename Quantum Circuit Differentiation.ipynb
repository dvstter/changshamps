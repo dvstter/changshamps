{
 "cells": [
  {
   "cell_type": "markdown",
   "metadata": {},
   "source": [
    "##### 第一种方法：利用正向传播，直接求解带参量子线路中的参数\n",
    "具体的理论基础是对于|Φₒ> = 𝑼₅𝑼₄𝑼₃𝑼₃𝑼₂𝑼₁|Φ₀>，其对于𝑼₃的微分为𝑼₅𝑼₄∂𝑼₃𝑼₃𝑼₂𝑼₁|Φ₀>。因此只需要将𝑼₃门替换成对应的∂𝑼₃门，就可以求出grad。"
   ]
  },
  {
   "cell_type": "code",
   "execution_count": 1,
   "metadata": {},
   "outputs": [
    {
     "name": "stdout",
     "output_type": "stream",
     "text": [
      "0.9998832015464804\n"
     ]
    }
   ],
   "source": [
    "using LinearAlgebra\n",
    "\n",
    "# simple quantum system to implement quantum circuit\n",
    "# quantum gates\n",
    "# 注意！！！Ry(θ)在郭老师实现的版本中所有的θ都不加1/2π，这样的话，∂Ry(θ)就等于Ry(θ+1/2π)\n",
    "# 但是如果像NC中这么定义的话，两个就不想等！！！\n",
    "__CNOT = [1 0 0 0;0 1 0 0;0 0 0 1;0 0 1 0]\n",
    "__Ry(θ) = [cos(θ/2) -sin(θ/2);sin(θ/2) cos(θ/2)]\n",
    "__I = [1 0;0 1]\n",
    "# matrix -> scalar's derivative == every element's derivative then transpose the matrix\n",
    "__∂Ry(θ) = [-1/2sin(θ/2) -1/2cos(θ/2);1/2cos(θ/2) -1/2sin(θ/2)]\n",
    "\n",
    "function CNOT(con, op, qubits=5)\n",
    "    res = __CNOT\n",
    "    for _ in 1:(con-1) res = kron(__I,res) end\n",
    "    for _ in (op+1):qubits res = kron(res, __I) end\n",
    "    return res\n",
    "end\n",
    "\n",
    "function __single_qubit(gate, op, qubits=5)\n",
    "    res = gate\n",
    "    for _ in 1:(op-1) res = kron(__I,res) end\n",
    "    for _ in (op+1):qubits res = kron(res, __I) end\n",
    "    return res\n",
    "end\n",
    "\n",
    "Ry(θ, op, qubits=5) = __single_qubit(__Ry(θ), op)\n",
    "∂Ry(θ, op, qubits=5) = __single_qubit(__∂Ry(θ), op)\n",
    "\n",
    "# quantum states\n",
    "ϕ₀ = [1,0]\n",
    "ϕ₁ = [0,1]\n",
    "\n",
    "# ground state |00000> and target state |01101>\n",
    "Φ₀ = kron(kron(kron(kron(ϕ₀, ϕ₀), ϕ₀), ϕ₀), ϕ₀)\n",
    "Φᵩ = kron(kron(kron(kron(ϕ₀, ϕ₁), ϕ₁), ϕ₀), ϕ₁)\n",
    "\n",
    "distance(Φ₁, Φ₂) = 1 - sum([Φ₁[x] * Φ₂[x] for x in 1:length(Φ₁)].^2)\n",
    "\n",
    "\n",
    "# circuit\n",
    "# --Ry₁---|---------------Ry₆---\n",
    "# --Ry₂---⨁---|-----------Ry₇---\n",
    "# --Ry₃-------⨁---|-------Ry₈---\n",
    "# --Ry₄-----------⨁---|---Ry₉---\n",
    "# --Ry₅---------------⨁---Ry₁₀--\n",
    "function loss(params)\n",
    "    temp = deepcopy(Φ₀)\n",
    "    for x in 1:5 temp = Ry(params[x], x) * temp end # first layer's Ry\n",
    "    for x in 1:4 temp = CNOT(x, x+1) * temp end # second layer's CNOT\n",
    "    for x in 1:5 temp = Ry(params[x+5], x) * temp end # third layer's Ry\n",
    "    return distance(temp, Φᵩ)\n",
    "end\n",
    "\n",
    "println(loss(randn(10).%2pi))"
   ]
  },
  {
   "cell_type": "code",
   "execution_count": 2,
   "metadata": {},
   "outputs": [
    {
     "name": "stderr",
     "output_type": "stream",
     "text": [
      "┌ Info: CUDAdrv.jl failed to initialize, GPU functionality unavailable (set JULIA_CUDA_SILENT or JULIA_CUDA_VERBOSE to silence or expand this message)\n",
      "└ @ CUDAdrv /Users/yanghanlin/.julia/packages/CUDAdrv/3EzC1/src/CUDAdrv.jl:69\n",
      "┌ Info: Precompiling Flux [587475ba-b771-5e3f-ad9e-33799f191a9c]\n",
      "└ @ Base loading.jl:1273\n"
     ]
    },
    {
     "name": "stdout",
     "output_type": "stream",
     "text": [
      "[0.9995052588149551, 0.9995052588149551, 0.9995052588149551, 0.9995052588149551, 0.9995052588149551, 0.9995052588149551, 0.9995052588149551, 0.9995052588149551, 0.9995052588149551, 0.9995052588149551]\n",
      "Any[0.00032644019087868514, 0.0026639101480263605, 0.0010461903973135733, -4.770810235754652e-5, -0.00041112482318528265, -0.0016567330261008095, -0.0024878979547615643, 0.00010765568969617334, -0.0018085963074954137, 0.00043787919945526]\n"
     ]
    }
   ],
   "source": [
    "#using Flux.Optimise\n",
    "#using VQC\n",
    "\n",
    "function __lossgrad(params, idx)\n",
    "    \n",
    "#     temp = deepcopy(Φ₀)\n",
    "#     gates = [x != idx ? Ry(params[x], x) : ∂Ry(params[x], x) for x in 1:5]\n",
    "#     gates = [gates;[x != idx ? Ry(params[x], x-5) : ∂Ry(params[x], x-5) for x in 6:10]]\n",
    "    \n",
    "    temp = deepcopy(Φ₀)\n",
    "    temp_params = deepcopy(params)\n",
    "    temp_params[idx] += 1/2pi\n",
    "    gates = [[Ry(params[x], x) for x in 1:5];[Ry(params[x], x-5) for x in 6:10]]\n",
    "    \n",
    "    for x in 1:5 temp = gates[x] * temp end\n",
    "    for x in 1:4 temp = CNOT(x, x+1) * temp end\n",
    "    for x in 6:10 temp = gates[x] * temp end\n",
    "    return distance(temp,Φᵩ)\n",
    "end\n",
    "\n",
    "function lossgrad(params)\n",
    "    return [__lossgrad(params, idx) for idx in 1:10]\n",
    "end\n",
    "\n",
    "function numerical_lossgrad(params)\n",
    "    ϵ = 0.001\n",
    "    los = loss(params)\n",
    "    dparams = []\n",
    "    for x in 1:10\n",
    "        params[x] += ϵ\n",
    "        push!(dparams, (loss(params) - los) / ϵ)\n",
    "        params[x] -= ϵ\n",
    "    end\n",
    "    return dparams\n",
    "end\n",
    "\n",
    "# init params\n",
    "params = randn(10).%2pi\n",
    "\n",
    "println(lossgrad(params))\n",
    "println(numerical_lossgrad(params))\n",
    "\n",
    "\n",
    "#=\n",
    "# use ADAM as optimizer\n",
    "opt = ADAM(0.01)\n",
    "for i in 1:10000\n",
    "    i % 1000 == 1 && println(\"loss value at epoch $i is $(loss(params)).\")\n",
    "    grad = lossgrad(params)\n",
    "    Optimise.update!(opt, params, grad)\n",
    "end=#"
   ]
  },
  {
   "cell_type": "code",
   "execution_count": 3,
   "metadata": {},
   "outputs": [
    {
     "ename": "UndefVarError",
     "evalue": "UndefVarError: projection not defined",
     "output_type": "error",
     "traceback": [
      "UndefVarError: projection not defined",
      "",
      "Stacktrace:",
      " [1] top-level scope at In[3]:6"
     ]
    }
   ],
   "source": [
    "final_params = params\n",
    "\n",
    "for x in 1:5 Φ₀ = Ry(final_params[x], x) * Φ₀ end # first layer's Ry\n",
    "for x in 1:4 Φ₀ = CNOT(x, x+1) * Φ₀ end # second layer's CNOT\n",
    "for x in 1:5 Φ₀ = Ry(final_params[x+5], x) * Φ₀ end # third layer's Ry\n",
    "\n",
    "println(\"the final_params will let Φ₀ reach Φᵩ with probability : \", projection(Φ₀, Φᵩ))"
   ]
  },
  {
   "cell_type": "code",
   "execution_count": null,
   "metadata": {},
   "outputs": [],
   "source": []
  }
 ],
 "metadata": {
  "kernelspec": {
   "display_name": "Julia 1.3.0",
   "language": "julia",
   "name": "julia-1.3"
  },
  "language_info": {
   "file_extension": ".jl",
   "mimetype": "application/julia",
   "name": "julia",
   "version": "1.3.0"
  }
 },
 "nbformat": 4,
 "nbformat_minor": 2
}
