{
 "cells": [
  {
   "cell_type": "code",
   "execution_count": 1,
   "metadata": {},
   "outputs": [
    {
     "data": {
      "text/plain": [
       "50-element Array{Array{Float64,1},1}:\n",
       " [1.0, 0.0, 0.0, 0.0, 0.0, 0.0, 0.0, 0.0, 0.0, 0.0]\n",
       " [0.0, 0.0, 0.0, 0.0, 0.0, 0.0, 1.0, 0.0, 0.0, 0.0]\n",
       " [0.0, 0.0, 0.0, 0.0, 1.0, 0.0, 0.0, 0.0, 0.0, 0.0]\n",
       " [0.0, 0.0, 0.0, 0.0, 0.0, 0.0, 1.0, 0.0, 0.0, 0.0]\n",
       " [1.0, 0.0, 0.0, 0.0, 0.0, 0.0, 0.0, 0.0, 0.0, 0.0]\n",
       " [0.0, 1.0, 0.0, 0.0, 0.0, 0.0, 0.0, 0.0, 0.0, 0.0]\n",
       " [0.0, 0.0, 0.0, 0.0, 0.0, 0.0, 0.0, 0.0, 1.0, 0.0]\n",
       " [0.0, 0.0, 0.0, 0.0, 1.0, 0.0, 0.0, 0.0, 0.0, 0.0]\n",
       " [0.0, 0.0, 0.0, 0.0, 0.0, 0.0, 1.0, 0.0, 0.0, 0.0]\n",
       " [1.0, 0.0, 0.0, 0.0, 0.0, 0.0, 0.0, 0.0, 0.0, 0.0]\n",
       " [0.0, 0.0, 0.0, 0.0, 0.0, 0.0, 1.0, 0.0, 0.0, 0.0]\n",
       " [0.0, 0.0, 0.0, 0.0, 0.0, 1.0, 0.0, 0.0, 0.0, 0.0]\n",
       " [0.0, 0.0, 0.0, 1.0, 0.0, 0.0, 0.0, 0.0, 0.0, 0.0]\n",
       " ⋮                                                 \n",
       " [0.0, 0.0, 0.0, 1.0, 0.0, 0.0, 0.0, 0.0, 0.0, 0.0]\n",
       " [0.0, 1.0, 0.0, 0.0, 0.0, 0.0, 0.0, 0.0, 0.0, 0.0]\n",
       " [0.0, 0.0, 1.0, 0.0, 0.0, 0.0, 0.0, 0.0, 0.0, 0.0]\n",
       " [0.0, 0.0, 0.0, 0.0, 0.0, 1.0, 0.0, 0.0, 0.0, 0.0]\n",
       " [0.0, 0.0, 0.0, 0.0, 0.0, 0.0, 0.0, 1.0, 0.0, 0.0]\n",
       " [0.0, 0.0, 0.0, 0.0, 0.0, 0.0, 0.0, 1.0, 0.0, 0.0]\n",
       " [0.0, 0.0, 0.0, 0.0, 0.0, 0.0, 1.0, 0.0, 0.0, 0.0]\n",
       " [0.0, 0.0, 0.0, 0.0, 0.0, 1.0, 0.0, 0.0, 0.0, 0.0]\n",
       " [1.0, 0.0, 0.0, 0.0, 0.0, 0.0, 0.0, 0.0, 0.0, 0.0]\n",
       " [0.0, 0.0, 0.0, 0.0, 0.0, 1.0, 0.0, 0.0, 0.0, 0.0]\n",
       " [0.0, 0.0, 1.0, 0.0, 0.0, 0.0, 0.0, 0.0, 0.0, 0.0]\n",
       " [1.0, 0.0, 0.0, 0.0, 0.0, 0.0, 0.0, 0.0, 0.0, 0.0]"
      ]
     },
     "execution_count": 1,
     "metadata": {},
     "output_type": "execute_result"
    }
   ],
   "source": [
    "x = [randn(28, 28) for i in 1:50]\n",
    "y = rand(1:9, 50)\n",
    "\n",
    "function one_hot(s)\n",
    "    z = zeros(10)\n",
    "    z[s] = 1\n",
    "    return z\n",
    "end\n",
    "\n",
    "y = one_hot.(y)"
   ]
  },
  {
   "cell_type": "code",
   "execution_count": 2,
   "metadata": {},
   "outputs": [
    {
     "data": {
      "text/plain": [
       "loss (generic function with 1 method)"
      ]
     },
     "execution_count": 2,
     "metadata": {},
     "output_type": "execute_result"
    }
   ],
   "source": [
    "using LinearAlgebra: dot\n",
    "\n",
    "distance(a, b) = dot(a, a) + dot(b, b) - 2 * dot(a, b)\n",
    "\n",
    "p1 = randn(100, 28 * 28)\n",
    "\n",
    "p2 = randn(10, 100)\n",
    "\n",
    "\n",
    "softmax(x::AbstractVector) = begin\n",
    "    y = exp.(x)\n",
    "    return y / sum(y)\n",
    "end\n",
    "\n",
    "loss(m1, m2) = begin\n",
    "    s = 0.\n",
    "    for i in 1:50\n",
    "        s = s + distance(softmax(m2 * atan.(m1 * reshape(x[i], length(x[i])))), y[i])\n",
    "    end\n",
    "    return s\n",
    "end\n",
    "\n"
   ]
  },
  {
   "cell_type": "code",
   "execution_count": 3,
   "metadata": {},
   "outputs": [
    {
     "data": {
      "text/plain": [
       "([0.015539666432076544 0.019992809314227613 … -0.026304324998412905 0.02031460079841017; -0.1756432479350961 -0.9104886196233372 … 0.33491385534975904 -0.047210375760226256; … ; -0.025910891700127562 0.04745581113130033 … -0.021773553595095883 0.027104164052754835; -0.023344556536412178 0.030136720308800064 … -0.03321582682018142 0.0032871686073622434], [0.2733042330215519 -0.6292616153787068 … -0.4751746997774259 0.4805903415285258; 1.066606699787812 -0.03846525379952279 … 0.39710487056890126 0.4172380499423238; … ; 0.2737760731849428 0.7898975536577246 … 1.1073856159224005 -0.281786192486323; -0.8000552520115601 -0.5394247386482925 … -0.9803206791229057 -0.7314078474158249])"
      ]
     },
     "execution_count": 3,
     "metadata": {},
     "output_type": "execute_result"
    }
   ],
   "source": [
    "using Zygote\n",
    "\n",
    "\n",
    "grad = gradient(loss, p1, p2)\n",
    "# println(grad)"
   ]
  },
  {
   "cell_type": "code",
   "execution_count": 4,
   "metadata": {},
   "outputs": [
    {
     "name": "stdout",
     "output_type": "stream",
     "text": [
      "79400\n"
     ]
    }
   ],
   "source": [
    "push!(LOAD_PATH, \"../../qi/variational\")\n",
    "using Flux.Optimise\n",
    "\n",
    "using VARA: parameters, set_parameters!, collect_gradients\n",
    "println(length(parameters(p1, p2)))\n"
   ]
  },
  {
   "cell_type": "code",
   "execution_count": 5,
   "metadata": {},
   "outputs": [
    {
     "name": "stdout",
     "output_type": "stream",
     "text": [
      "loss value at epoch 1 is 76.89700584915201.\n",
      "loss value at epoch 2 is 79.01717731800811.\n",
      "loss value at epoch 3 is 77.32377340294182.\n",
      "loss value at epoch 4 is 75.66960921007879.\n",
      "loss value at epoch 5 is 74.51671090793398.\n",
      "loss value at epoch 6 is 75.50714608886727.\n",
      "loss value at epoch 7 is 75.20033112159115.\n",
      "loss value at epoch 8 is 75.99971176287984.\n",
      "loss value at epoch 9 is 75.99893816079168.\n",
      "loss value at epoch 10 is 75.95389644366178.\n",
      "loss value at epoch 11 is 75.9997583737614.\n",
      "loss value at epoch 12 is 75.99985936115247.\n",
      "loss value at epoch 13 is 75.99692599687265.\n",
      "loss value at epoch 14 is 75.9805708645047.\n",
      "loss value at epoch 15 is 75.54281223174377.\n",
      "loss value at epoch 16 is 75.99939118945254.\n",
      "loss value at epoch 17 is 75.99607173512878.\n",
      "loss value at epoch 18 is 75.98461840509245.\n",
      "loss value at epoch 19 is 75.63389488739598.\n",
      "loss value at epoch 20 is 75.87158040126171.\n",
      "loss value at epoch 21 is 75.6647079476459.\n",
      "loss value at epoch 22 is 75.98071965699852.\n",
      "loss value at epoch 23 is 75.68063356268321.\n",
      "loss value at epoch 24 is 75.99257169093411.\n",
      "loss value at epoch 25 is 76.00455968241283.\n",
      "loss value at epoch 26 is 76.005532155365.\n",
      "loss value at epoch 27 is 75.5945082699083.\n",
      "loss value at epoch 28 is 75.96487147933495.\n",
      "loss value at epoch 29 is 75.76956322262558.\n",
      "loss value at epoch 30 is 75.86117456116928.\n",
      "loss value at epoch 31 is 75.81170117928387.\n",
      "loss value at epoch 32 is 75.84846446140101.\n",
      "loss value at epoch 33 is 75.87359282476088.\n",
      "loss value at epoch 34 is 75.51900038231919.\n",
      "loss value at epoch 35 is 75.51903477533084.\n",
      "loss value at epoch 36 is 75.8373008396726.\n",
      "loss value at epoch 37 is 75.58978261128567.\n",
      "loss value at epoch 38 is 75.98917094637815.\n",
      "loss value at epoch 39 is 75.99979106543248.\n",
      "loss value at epoch 40 is 75.99976901479478.\n",
      "loss value at epoch 41 is 75.99963808915385.\n",
      "loss value at epoch 42 is 75.99932970890967.\n",
      "loss value at epoch 43 is 75.99839770368418.\n",
      "loss value at epoch 44 is 75.99555097079292.\n",
      "loss value at epoch 45 is 75.55965628085656.\n",
      "loss value at epoch 46 is 75.9996695785299.\n",
      "loss value at epoch 47 is 75.999657300865.\n",
      "loss value at epoch 48 is 75.99945126290206.\n",
      "loss value at epoch 49 is 75.99357223791522.\n",
      "loss value at epoch 50 is 75.86936360696644.\n",
      "loss value at epoch 51 is 75.9993980395938.\n",
      "loss value at epoch 52 is 75.99962395669613.\n",
      "loss value at epoch 53 is 75.99954965479748.\n",
      "loss value at epoch 54 is 75.99888697768813.\n",
      "loss value at epoch 55 is 75.99304606523586.\n",
      "loss value at epoch 56 is 75.72184774018439.\n",
      "loss value at epoch 57 is 75.99999980022922.\n",
      "loss value at epoch 58 is 75.9999999334679.\n",
      "loss value at epoch 59 is 75.99999984751362.\n",
      "loss value at epoch 60 is 75.99999934699325.\n",
      "loss value at epoch 61 is 75.99999714987601.\n",
      "loss value at epoch 62 is 75.99999309014592.\n",
      "loss value at epoch 63 is 75.99999060464003.\n",
      "loss value at epoch 64 is 75.99999142441433.\n",
      "loss value at epoch 65 is 75.99998959332743.\n",
      "loss value at epoch 66 is 75.9999699172937.\n",
      "loss value at epoch 67 is 75.99991710694353.\n",
      "loss value at epoch 68 is 75.9997864787953.\n",
      "loss value at epoch 69 is 75.99921764455021.\n",
      "loss value at epoch 70 is 75.99012867252408.\n",
      "loss value at epoch 71 is 75.7068074479476.\n",
      "loss value at epoch 72 is 76.00036802669557.\n",
      "loss value at epoch 73 is 76.00245425078211.\n",
      "loss value at epoch 74 is 76.00034267227294.\n",
      "loss value at epoch 75 is 75.99999999883038.\n",
      "loss value at epoch 76 is 76.00000001699983.\n",
      "loss value at epoch 77 is 76.0000001208875.\n",
      "loss value at epoch 78 is 76.00000045206257.\n",
      "loss value at epoch 79 is 76.0000013136582.\n",
      "loss value at epoch 80 is 76.00000324208702.\n",
      "loss value at epoch 81 is 76.00000690533021.\n",
      "loss value at epoch 82 is 76.00001240263212.\n",
      "loss value at epoch 83 is 76.00001786272688.\n",
      "loss value at epoch 84 is 76.0000196795197.\n",
      "loss value at epoch 85 is 76.00001670417176.\n",
      "loss value at epoch 86 is 76.0000118735611.\n",
      "loss value at epoch 87 is 76.00000810660566.\n",
      "loss value at epoch 88 is 76.00000618178481.\n",
      "loss value at epoch 89 is 76.0000057633849.\n",
      "loss value at epoch 90 is 76.0000063966464.\n",
      "loss value at epoch 91 is 76.00000777078068.\n",
      "loss value at epoch 92 is 76.00000968826225.\n",
      "loss value at epoch 93 is 76.00001199710069.\n",
      "loss value at epoch 94 is 76.00001454471273.\n",
      "loss value at epoch 95 is 76.00001715478733.\n",
      "loss value at epoch 96 is 76.00001962208816.\n",
      "loss value at epoch 97 is 76.00002172211263.\n",
      "loss value at epoch 98 is 76.00002323317098.\n",
      "loss value at epoch 99 is 76.0000239669831.\n",
      "loss value at epoch 100 is 76.00002380148825.\n"
     ]
    }
   ],
   "source": [
    "opt = ADAM(0.1)\n",
    "x0 = parameters(p1, p2)\n",
    "for i in 1:100\n",
    "    grad = collect_gradients(gradient(loss, p1, p2))\n",
    "    Optimise.update!(opt, x0, grad)\n",
    "#     x0 -= 0.1 * grad\n",
    "    set_parameters!(x0, p1, p2)\n",
    "    println(\"loss value at epoch $i is $(loss(p1, p2)).\")\n",
    "end\n",
    "    \n",
    "    \n",
    "    "
   ]
  },
  {
   "cell_type": "code",
   "execution_count": 6,
   "metadata": {},
   "outputs": [
    {
     "data": {
      "text/plain": [
       "(0.2,)"
      ]
     },
     "execution_count": 6,
     "metadata": {},
     "output_type": "execute_result"
    }
   ],
   "source": [
    "f(x) = x^2\n",
    "\n",
    "gradient(f, 0.1)"
   ]
  },
  {
   "cell_type": "code",
   "execution_count": 8,
   "metadata": {},
   "outputs": [
    {
     "name": "stdout",
     "output_type": "stream",
     "text": [
      "------------------\n"
     ]
    },
    {
     "data": {
      "text/plain": [
       "(0.2,)"
      ]
     },
     "execution_count": 8,
     "metadata": {},
     "output_type": "execute_result"
    }
   ],
   "source": [
    "using Zygote: @adjoint\n",
    "\n",
    "@adjoint f(x) = x^2, z -> begin\n",
    "    println(\"------------------\")\n",
    "    (2*x*z,)\n",
    "end\n",
    "\n",
    "gradient(f, 0.1)"
   ]
  },
  {
   "cell_type": "code",
   "execution_count": 2,
   "metadata": {},
   "outputs": [
    {
     "data": {
      "text/plain": [
       "([2.0, 2.0, 2.0],)"
      ]
     },
     "execution_count": 2,
     "metadata": {},
     "output_type": "execute_result"
    }
   ],
   "source": [
    "using Zygote: @adjoint\n",
    "using Zygote\n",
    "f1(x::Vector) = 2 .* x\n",
    "f2(y::Vector) = sum(y)\n",
    "\n",
    "g(x) = f2(f1(x))\n",
    "\n",
    "x0 = randn(3)\n",
    "gradient(g, x0)"
   ]
  },
  {
   "cell_type": "code",
   "execution_count": 3,
   "metadata": {},
   "outputs": [
    {
     "name": "stdout",
     "output_type": "stream",
     "text": [
      "------------------\n"
     ]
    },
    {
     "data": {
      "text/plain": [
       "([2.0, 2.0, 2.0],)"
      ]
     },
     "execution_count": 3,
     "metadata": {},
     "output_type": "execute_result"
    }
   ],
   "source": [
    "@adjoint f1(x) = f1(x), z -> begin\n",
    "    println(\"------------------\")\n",
    "    ( 2 .* z ,)\n",
    "end\n",
    "\n",
    "gradient(g, x0)"
   ]
  },
  {
   "cell_type": "code",
   "execution_count": null,
   "metadata": {},
   "outputs": [],
   "source": []
  }
 ],
 "metadata": {
  "kernelspec": {
   "display_name": "Julia 1.2.0",
   "language": "julia",
   "name": "julia-1.2"
  },
  "language_info": {
   "file_extension": ".jl",
   "mimetype": "application/julia",
   "name": "julia",
   "version": "1.2.0"
  }
 },
 "nbformat": 4,
 "nbformat_minor": 2
}
