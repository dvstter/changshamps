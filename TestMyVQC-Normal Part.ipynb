{
 "cells": [
  {
   "cell_type": "markdown",
   "metadata": {},
   "source": [
    "##### NOTICE\n",
    "Test for MyVQC module"
   ]
  },
  {
   "cell_type": "code",
   "execution_count": 1,
   "metadata": {},
   "outputs": [
    {
     "name": "stderr",
     "output_type": "stream",
     "text": [
      "┌ Info: Precompiling MyVQC [top-level]\n",
      "└ @ Base loading.jl:1273\n"
     ]
    }
   ],
   "source": [
    "push!(LOAD_PATH, \"/Users/yanghanlin/Desktop/julia-2-week/tensornetwork/\")\n",
    "using MyVQC"
   ]
  },
  {
   "cell_type": "code",
   "execution_count": 4,
   "metadata": {},
   "outputs": [
    {
     "name": "stdout",
     "output_type": "stream",
     "text": [
      "probability for #1 qubit in |0> : 0.4132155134543502\n",
      "probability for |0> : 0.41321551345435004\n"
     ]
    },
    {
     "data": {
      "text/plain": [
       "1"
      ]
     },
     "execution_count": 4,
     "metadata": {},
     "output_type": "execute_result"
    }
   ],
   "source": [
    "#=\n",
    "    This section test for quantum teleportation\n",
    "=#\n",
    "\n",
    "mps = initmps([undef,0,0])\n",
    "qtelecircuit = initcircuit()\n",
    "println(\"probability for #1 qubit in |0> : \", mps.data[1][1,1,1]^2)\n",
    "\n",
    "# prepare EPR pair\n",
    "add_gate(qtelecircuit, hadamard(2))\n",
    "add_gate(qtelecircuit, cnot(2,3))\n",
    "\n",
    "# quantum teleportation\n",
    "add_gate(qtelecircuit, cnot(1,2))\n",
    "add_gate(qtelecircuit, hadamard(1))\n",
    "apply!(mps, qtelecircuit)\n",
    "M₁ = measure(mps, 1)\n",
    "M₂ = measure(mps, 2)\n",
    "\n",
    "M₂ == 1 && 𝑿!(mps, 3)\n",
    "M₁ == 1 && 𝒁!(mps, 3)\n",
    "measure(mps, 3, true)\n",
    "\n",
    "# NOTES: See the print"
   ]
  }
 ],
 "metadata": {
  "kernelspec": {
   "display_name": "Julia 1.3.0",
   "language": "julia",
   "name": "julia-1.3"
  },
  "language_info": {
   "file_extension": ".jl",
   "mimetype": "application/julia",
   "name": "julia",
   "version": "1.3.0"
  }
 },
 "nbformat": 4,
 "nbformat_minor": 2
}
