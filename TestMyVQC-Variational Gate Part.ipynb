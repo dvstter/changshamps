{
 "cells": [
  {
   "cell_type": "code",
   "execution_count": 1,
   "metadata": {},
   "outputs": [
    {
     "name": "stderr",
     "output_type": "stream",
     "text": [
      "┌ Info: Precompiling MyVQC [top-level]\n",
      "└ @ Base loading.jl:1273\n"
     ]
    }
   ],
   "source": [
    "push!(LOAD_PATH, \"/Users/yanghanlin/Desktop/julia-2-week/tensornetwork/\")\n",
    "using MyVQC"
   ]
  },
  {
   "cell_type": "code",
   "execution_count": 2,
   "metadata": {},
   "outputs": [
    {
     "name": "stdout",
     "output_type": "stream",
     "text": [
      "Number[2.0, 1.0, 1.0]\n",
      "Number[1.0, 2.0, 3.0]\n",
      "7\n",
      "3\n"
     ]
    },
    {
     "data": {
      "text/plain": [
       "1"
      ]
     },
     "execution_count": 2,
     "metadata": {},
     "output_type": "execute_result"
    }
   ],
   "source": [
    "# test for variational circuit\n",
    "mps = initmps([0,0,0,0])\n",
    "circuit = initcircuit()\n",
    "\n",
    "push!(circuit, ry(1, Variable(2.0))) # add variable gate, notice that only variable gate can be derivative\n",
    "push!(circuit, hadamard(1))\n",
    "push!(circuit, ry(2, Variable(1.0)))\n",
    "push!(circuit, ry(1, 3.0))\n",
    "push!(circuit, ∂ry(4, Variable(1.0)))\n",
    "push!(circuit, ∂ry(4, 1.0))\n",
    "push!(circuit, cnot(1, 2))\n",
    "\n",
    "println(collect_parameters(circuit))\n",
    "putback_parameters!(circuit, [1.0,2.0,3.0])\n",
    "println(collect_parameters(circuit))\n",
    "println(length(circuit))\n",
    "println(length(circuit, :variable))\n",
    "\n",
    "tempsys = mps * circuit\n",
    "tempsys = circuit * mps\n",
    "#projection_all(tempsys)\n",
    "measure!(tempsys, 1)\n",
    "#projection_all(mps)"
   ]
  },
  {
   "cell_type": "code",
   "execution_count": 3,
   "metadata": {},
   "outputs": [
    {
     "ename": "MethodError",
     "evalue": "MethodError: no method matching push!()\nClosest candidates are:\n  push!(!Matched::Array{Any,1}, !Matched::Any) at array.jl:875\n  push!(!Matched::BitArray{1}, !Matched::Any) at bitarray.jl:712\n  push!(!Matched::BitSet, !Matched::Integer) at bitset.jl:273\n  ...",
     "output_type": "error",
     "traceback": [
      "MethodError: no method matching push!()\nClosest candidates are:\n  push!(!Matched::Array{Any,1}, !Matched::Any) at array.jl:875\n  push!(!Matched::BitArray{1}, !Matched::Any) at bitarray.jl:712\n  push!(!Matched::BitSet, !Matched::Integer) at bitset.jl:273\n  ...",
      "",
      "Stacktrace:",
      " [1] top-level scope at In[3]:7"
     ]
    }
   ],
   "source": [
    "mps = initmps([0,0,0])\n",
    "circuit = initcircuit()\n",
    "\n",
    "push!(circuit, hadamard(1))\n",
    "push!(circuit, hadamard(2))\n",
    "push!(circuit, hadamard(3))\n",
    "push!()\n",
    "\n",
    "circuit |> mps\n",
    "projection_all(mps)"
   ]
  },
  {
   "cell_type": "code",
   "execution_count": 4,
   "metadata": {},
   "outputs": [
    {
     "data": {
      "text/plain": [
       "loss_and_grad (generic function with 1 method)"
      ]
     },
     "execution_count": 4,
     "metadata": {},
     "output_type": "execute_result"
    }
   ],
   "source": [
    "loss(sys::MPS, circuit::QuantumCircuit, target::AbstractArray) = 1 - projection(sys * circuit, target)\n",
    "function loss_and_grad(sys::MPS, circuit::QuantumCircuit, target::AbstractArray)\n",
    "    final_mps = sys * circuit\n",
    "    \n",
    "end"
   ]
  },
  {
   "cell_type": "code",
   "execution_count": null,
   "metadata": {},
   "outputs": [],
   "source": []
  }
 ],
 "metadata": {
  "kernelspec": {
   "display_name": "Julia 1.3.0",
   "language": "julia",
   "name": "julia-1.3"
  },
  "language_info": {
   "file_extension": ".jl",
   "mimetype": "application/julia",
   "name": "julia",
   "version": "1.3.0"
  }
 },
 "nbformat": 4,
 "nbformat_minor": 2
}
